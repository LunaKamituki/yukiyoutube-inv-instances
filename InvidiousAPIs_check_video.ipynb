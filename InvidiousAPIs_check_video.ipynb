{
  "nbformat": 4,
  "nbformat_minor": 0,
  "metadata": {
    "colab": {
      "provenance": [],
      "mount_file_id": "1J4Xm5G8Dl1piiLb57uCRXJaouTn8s-TG",
      "authorship_tag": "ABX9TyPrZfs0u4sd9XMlhFRFJmzY"
    },
    "kernelspec": {
      "name": "python3",
      "display_name": "Python 3"
    },
    "language_info": {
      "name": "python"
    }
  },
  "cells": [
    {
      "cell_type": "code",
      "execution_count": null,
      "metadata": {
        "id": "XPvUcDBA9jy1"
      },
      "outputs": [],
      "source": [
        "# 必要なモジュールをimportする\n",
        "import requests\n",
        "import re\n",
        "import urllib\n",
        "import ast\n",
        "import json\n",
        "import pprint"
      ]
    },
    {
      "cell_type": "code",
      "source": [
        "instances_str = '''ここにURLを入力(ドメインの終わりには/が必須 e.g. https://google.com/search?q=exsample)'''"
      ],
      "metadata": {
        "id": "_b65_fQj9wLj"
      },
      "execution_count": null,
      "outputs": []
    },
    {
      "cell_type": "code",
      "source": [
        "# e.g. \"https://www.google.com/?q=exsamplehttps://www.apple.com/\"\n",
        "#      => [\"https://www.google.com/\", \"https://www.apple.com/\"]\n",
        "# Note: httpの場合httpsに変換して処理する\n",
        "#       必ず有効なURLとは限らない（あくまで抽出するだけ）\n",
        "\n",
        "def extractionUrlsFromStr(str):\n",
        "  splitted_urls = str.replace('http://', 'https://').split('https://')\n",
        "\n",
        "  unpermitted_characters_in_url = r'([^\\w!\\?\\/\\+\\\\\\-~;\\.,\\*&@#\\$%\\(\\)\\'\\[\\]])'\n",
        "  unpermitted_characters_re = re.compile(unpermitted_characters_in_url)\n",
        "\n",
        "  urls = []\n",
        "\n",
        "  for unformatted_str in splitted_urls:\n",
        "    formatted_url = re.sub(unpermitted_characters_re, '', unformatted_str)\n",
        "\n",
        "    urls.append('https:// ' + urllib.parse.urlparse(formatted_url).netloc + '/')\n",
        "\n",
        "  return urls"
      ],
      "metadata": {
        "id": "m_wOHmuh4sBf"
      },
      "execution_count": null,
      "outputs": []
    },
    {
      "cell_type": "code",
      "source": [
        "instance_urls = extractionUrlsFromStr(instances_str)\n",
        "\n",
        "pprint.pprint(f'Invidiousのサイト数: {len(instances_urls)}\\\\nURL: {instances_urls}')"
      ],
      "metadata": {
        "id": "ruLm8M4o-Hm8",
        "collapsed": true
      },
      "execution_count": null,
      "outputs": []
    },
    {
      "cell_type": "code",
      "source": [
        "success_instances = []\n",
        "\n",
        "for url in instance_urls:\n",
        "  try:\n",
        "    res = requests.get(url + 'api/v1/videos/shs0rAiwsGQ', timeout=(3.0, 1.5)).text\n",
        "    json_res = json.loads(res)\n",
        "    if 'error' not in json_res:\n",
        "      video_res = requests.get(json_res['formatStreams'][0]['url'], timeout=(1.0, 0.5))\n",
        "      if video_res.headers['Content-Type'] == 'video/mp4':\n",
        "        print('SUCCESS: ' + url)\n",
        "        success_instances.append(url)\n",
        "      else:\n",
        "        print('not video: ' + url)\n",
        "    else:\n",
        "      print('instances returned error: ' + url)\n",
        "\n",
        "  except:\n",
        "    print('ERROR: ' + url)\n",
        "    pass\n"
      ],
      "metadata": {
        "id": "uZaZZw7-E1pG"
      },
      "execution_count": null,
      "outputs": []
    },
    {
      "cell_type": "code",
      "source": [
        "pprint.pprint(success_instances)"
      ],
      "metadata": {
        "id": "aWlxVLi0_JEY"
      },
      "execution_count": null,
      "outputs": []
    }
  ]
}